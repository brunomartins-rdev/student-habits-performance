{
 "cells": [
  {
   "cell_type": "code",
   "execution_count": null,
   "id": "dbf50636",
   "metadata": {},
   "outputs": [],
   "source": [
    "import os\n",
    "os.chdir(\"../\")"
   ]
  },
  {
   "cell_type": "markdown",
   "id": "59ad4e17",
   "metadata": {},
   "source": [
    "# EDA for Students Habits Performance\n",
    "In this notebook, we will explore the data and later, apply those changes to our `main.py` file"
   ]
  },
  {
   "cell_type": "code",
   "execution_count": null,
   "id": "2c2df4a5",
   "metadata": {},
   "outputs": [],
   "source": [
    "# Import the data\n",
    "from src.data_loader import DataLoader\n",
    "\n",
    "student_data = DataLoader().load_raw_data('student-habits-performance.csv')"
   ]
  },
  {
   "cell_type": "markdown",
   "id": "6ad46238",
   "metadata": {},
   "source": [
    "## Preprocessor\n",
    "The columns present in the pd.Fataframe are:"
   ]
  },
  {
   "cell_type": "code",
   "execution_count": null,
   "id": "a7ab8c7b",
   "metadata": {},
   "outputs": [],
   "source": [
    "from src.data_cleaner import Preprocessor\n",
    "\n",
    "prep = Preprocessor(student_data)\n",
    "print(prep.data_frame.columns)"
   ]
  },
  {
   "cell_type": "markdown",
   "id": "12be48c1",
   "metadata": {},
   "source": [
    "Let's start by removing the `student_id` column, since this will not be relevant for modeling later on."
   ]
  },
  {
   "cell_type": "code",
   "execution_count": null,
   "id": "b432c81b",
   "metadata": {},
   "outputs": [],
   "source": [
    "prep.remove_columns(['student_id'])"
   ]
  },
  {
   "cell_type": "markdown",
   "id": "c563aaa7",
   "metadata": {},
   "source": [
    "## Overall picture of the data\n",
    "Let's start by getting the `head()`, `info()` and `describe()` of the data, now without the `student_id` column."
   ]
  },
  {
   "cell_type": "code",
   "execution_count": null,
   "id": "40e54a99",
   "metadata": {},
   "outputs": [],
   "source": [
    "print(prep.get_head())"
   ]
  },
  {
   "cell_type": "code",
   "execution_count": null,
   "id": "400ee0e3",
   "metadata": {},
   "outputs": [],
   "source": [
    "print(prep.data_frame.describe())"
   ]
  },
  {
   "cell_type": "markdown",
   "id": "aaf79ea3",
   "metadata": {},
   "source": [
    "Here we see the unique values for the categorical variables of the dataset."
   ]
  },
  {
   "cell_type": "code",
   "execution_count": null,
   "id": "aee266ba",
   "metadata": {},
   "outputs": [],
   "source": [
    "print(prep.data_frame.info())"
   ]
  },
  {
   "cell_type": "markdown",
   "id": "20b7a58e",
   "metadata": {},
   "source": [
    "## Handling missing data\n",
    "In this section, we are going to handle missing values on the `parental_education_level` variable.\n",
    "\n",
    "The percentage of missing values, by variable, are the following:"
   ]
  },
  {
   "cell_type": "code",
   "execution_count": null,
   "id": "a0283370",
   "metadata": {},
   "outputs": [],
   "source": [
    "prep.data_frame.isnull().mean().sort_values(ascending=False)"
   ]
  },
  {
   "cell_type": "markdown",
   "id": "169adc55",
   "metadata": {},
   "source": [
    "Since the variable `parental_education_level` is categorical, and NA percentage being less than 10%, replacing NA's with \"Unknown\" seem to be the best options.\n",
    "\n",
    "**Replacing with the mode would result in possible bias on the data, since this is still roughly 10% of total sample, and removing those rows would remove a great part of the total sample.**"
   ]
  },
  {
   "cell_type": "code",
   "execution_count": 12,
   "id": "53034e63",
   "metadata": {},
   "outputs": [],
   "source": [
    "prep.replace_nas_with_value('parental_education_level')"
   ]
  },
  {
   "cell_type": "markdown",
   "id": "eb982b3b",
   "metadata": {},
   "source": [
    "## Transform categorical str into categorical int\n",
    "Let's now convert categorical variables into numeric categorizations for model understanding."
   ]
  },
  {
   "cell_type": "code",
   "execution_count": null,
   "id": "8fd97cc3",
   "metadata": {},
   "outputs": [],
   "source": [
    "print(prep.see_uniques(['gender', 'diet_quality', 'part_time_job', 'parental_education_level', 'internet_quality', 'extracurricular_participation']))"
   ]
  },
  {
   "cell_type": "markdown",
   "id": "83f96750",
   "metadata": {},
   "source": [
    "Here, we see that there are 91 missing values in the `parental_education_level` variable. Let's first check what we are going to do with those rows, since this represents roughly 10% missing from our sample."
   ]
  },
  {
   "cell_type": "code",
   "execution_count": null,
   "id": "1202dfba",
   "metadata": {},
   "outputs": [],
   "source": [
    "prep.encode_categoricals()\n",
    "print(prep.data_frame.describe())"
   ]
  }
 ],
 "metadata": {
  "kernelspec": {
   "display_name": ".env",
   "language": "python",
   "name": "python3"
  },
  "language_info": {
   "codemirror_mode": {
    "name": "ipython",
    "version": 3
   },
   "file_extension": ".py",
   "mimetype": "text/x-python",
   "name": "python",
   "nbconvert_exporter": "python",
   "pygments_lexer": "ipython3",
   "version": "3.13.2"
  }
 },
 "nbformat": 4,
 "nbformat_minor": 5
}
